{
 "cells": [
  {
   "cell_type": "code",
   "execution_count": 4,
   "metadata": {},
   "outputs": [],
   "source": [
    "import random\n",
    "import numpy as np\n",
    "\n",
    "from photon_weave.state.polarization import Polarization, PolarizationLabel\n",
    "from photon_weave.state.composite_envelope import CompositeEnvelope\n",
    "from photon_weave.state.envelope import Envelope\n",
    "\n",
    "from photon_weave.operation.polarization_operations import PolarizationOperation, PolarizationOperationType\n",
    "from photon_weave.operation.composite_operation import CompositeOperation, CompositeOperationType"
   ]
  },
  {
   "cell_type": "code",
   "execution_count": 27,
   "metadata": {},
   "outputs": [
    {
     "name": "stdout",
     "output_type": "stream",
     "text": [
      "|V⟩ |0⟩ ⊗ |V⟩\n",
      "<photon_weave.state.composite_envelope.CompositeEnvelope object at 0x000002E513771C70>\n"
     ]
    }
   ],
   "source": [
    "env1 = Polarization()\n",
    "env2 = Envelope()\n",
    "\n",
    "op1 = PolarizationOperation(PolarizationOperationType.X)\n",
    "env1.apply_operation(op1)\n",
    "env2.apply_operation(op1)\n",
    "print(env1, env2)\n",
    "\n",
    "env3 = Envelope()\n",
    "comp_env1 = CompositeEnvelope(env2, env3)\n",
    "\n",
    "op2 = CompositeOperation(CompositeOperationType.CNOT)\n",
    "comp_env1.apply_operation(op2, env2, env3)\n",
    "print(comp_env1)"
   ]
  },
  {
   "cell_type": "code",
   "execution_count": 29,
   "metadata": {},
   "outputs": [
    {
     "ename": "AttributeError",
     "evalue": "'CompositeEnvelope' object has no attribute 'density_matrix'",
     "output_type": "error",
     "traceback": [
      "\u001b[1;31m---------------------------------------------------------------------------\u001b[0m",
      "\u001b[1;31mAttributeError\u001b[0m                            Traceback (most recent call last)",
      "Cell \u001b[1;32mIn[29], line 1\u001b[0m\n\u001b[1;32m----> 1\u001b[0m \u001b[43mcomp_env1\u001b[49m\u001b[38;5;241;43m.\u001b[39;49m\u001b[43mdensity_matrix\u001b[49m\n",
      "\u001b[1;31mAttributeError\u001b[0m: 'CompositeEnvelope' object has no attribute 'density_matrix'"
     ]
    }
   ],
   "source": [
    "comp_env1.density_matrix"
   ]
  },
  {
   "cell_type": "markdown",
   "metadata": {},
   "source": [
    "- When to use Envelop() and Polarization()\n",
    "- How to extract statevector from CompositeEnvelop()\n",
    "    - Density matrix\n",
    "        - To calculate fidelity\n",
    "- How to perform operations > 2 qubits\n",
    "- How to use Custom()\n",
    "    - Matrix?\n",
    "- What is expand()"
   ]
  }
 ],
 "metadata": {
  "kernelspec": {
   "display_name": "Python 3",
   "language": "python",
   "name": "python3"
  },
  "language_info": {
   "codemirror_mode": {
    "name": "ipython",
    "version": 3
   },
   "file_extension": ".py",
   "mimetype": "text/x-python",
   "name": "python",
   "nbconvert_exporter": "python",
   "pygments_lexer": "ipython3",
   "version": "3.12.0"
  }
 },
 "nbformat": 4,
 "nbformat_minor": 2
}
